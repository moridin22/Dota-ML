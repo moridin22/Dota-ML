{
 "cells": [
  {
   "cell_type": "code",
   "execution_count": 1,
   "metadata": {
    "collapsed": false
   },
   "outputs": [
    {
     "name": "stderr",
     "output_type": "stream",
     "text": [
      "/Library/Frameworks/Python.framework/Versions/3.5/lib/python3.5/site-packages/sklearn/cross_validation.py:44: DeprecationWarning: This module was deprecated in version 0.18 in favor of the model_selection module into which all the refactored classes and functions are moved. Also note that the interface of the new CV iterators are different from that of this module. This module will be removed in 0.20.\n",
      "  \"This module will be removed in 0.20.\", DeprecationWarning)\n"
     ]
    }
   ],
   "source": [
    "import csv\n",
    "import matplotlib\n",
    "import numpy as np\n",
    "import pandas as pd\n",
    "import matplotlib.pyplot as plt\n",
    "from sklearn.linear_model import LogisticRegression\n",
    "from sklearn.cross_validation import train_test_split\n",
    "from sklearn import metrics\n",
    "from sklearn.cross_validation import cross_val_score\n"
   ]
  },
  {
   "cell_type": "code",
   "execution_count": 2,
   "metadata": {
    "collapsed": false
   },
   "outputs": [
    {
     "data": {
      "text/plain": [
       "\"Set the second five's columns to 113+themselves\\n   Make a new DataFrame saying whether or not the hero is in the game, using the\\n   hero id as the column titles.\\n   Add two more columns to this DataFrame computing the difference of the\\n   average of the gold & xp for each team at the end of the game.\\n[1 for i in range(10) if train[i+1]]\\n\""
      ]
     },
     "execution_count": 2,
     "metadata": {},
     "output_type": "execute_result"
    }
   ],
   "source": [
    "def read_files():\n",
    "    global hero, test, train, sample\n",
    "    hero = pd.read_csv('Data/MatchDetail.csv')\n",
    "    test = pd.read_csv('Data/MatchOverviewTest.csv')\n",
    "    train = pd.read_csv('Data/MatchOverviewTraining.csv')\n",
    "    sample = pd.read_csv('Data/sampleSubmission.csv')\n",
    "    train.index = train.match_id.tolist()\n",
    "    del train['match_id']\n",
    "\n",
    "def find_nones(arr):\n",
    "    ret = []\n",
    "    for i in range(1, 114):\n",
    "        if not any([arr.hero_1[j] == i for j in range(len(arr.hero_1))]):\n",
    "            ret.append(i)\n",
    "    return ret\n",
    "#FIX THE PROBLEM WITH THE ANDS\n",
    "\"\"\"Set the second five's columns to 113+themselves\n",
    "   Make a new DataFrame saying whether or not the hero is in the game, using the\n",
    "   hero id as the column titles.\n",
    "   Add two more columns to this DataFrame computing the difference of the\n",
    "   average of the gold & xp for each team at the end of the game.\n",
    "[1 for i in range(10) if train[i+1]]\n",
    "\"\"\"\n"
   ]
  },
  {
   "cell_type": "code",
   "execution_count": 3,
   "metadata": {
    "collapsed": false
   },
   "outputs": [
    {
     "name": "stdout",
     "output_type": "stream",
     "text": [
      "202319 13873 10000 13873\n"
     ]
    },
    {
     "data": {
      "text/html": [
       "<div>\n",
       "<table border=\"1\" class=\"dataframe\">\n",
       "  <thead>\n",
       "    <tr style=\"text-align: right;\">\n",
       "      <th></th>\n",
       "      <th>hero_1</th>\n",
       "      <th>hero_2</th>\n",
       "      <th>hero_3</th>\n",
       "      <th>hero_4</th>\n",
       "      <th>hero_5</th>\n",
       "      <th>hero_6</th>\n",
       "      <th>hero_7</th>\n",
       "      <th>hero_8</th>\n",
       "      <th>hero_9</th>\n",
       "      <th>hero_10</th>\n",
       "      <th>first_5_won</th>\n",
       "    </tr>\n",
       "  </thead>\n",
       "  <tbody>\n",
       "    <tr>\n",
       "      <th>2488245920</th>\n",
       "      <td>34</td>\n",
       "      <td>83</td>\n",
       "      <td>29</td>\n",
       "      <td>102</td>\n",
       "      <td>12</td>\n",
       "      <td>88</td>\n",
       "      <td>107</td>\n",
       "      <td>10</td>\n",
       "      <td>70</td>\n",
       "      <td>53</td>\n",
       "      <td>True</td>\n",
       "    </tr>\n",
       "    <tr>\n",
       "      <th>2488233366</th>\n",
       "      <td>102</td>\n",
       "      <td>63</td>\n",
       "      <td>34</td>\n",
       "      <td>100</td>\n",
       "      <td>60</td>\n",
       "      <td>1</td>\n",
       "      <td>38</td>\n",
       "      <td>48</td>\n",
       "      <td>93</td>\n",
       "      <td>33</td>\n",
       "      <td>False</td>\n",
       "    </tr>\n",
       "    <tr>\n",
       "      <th>2488231318</th>\n",
       "      <td>7</td>\n",
       "      <td>112</td>\n",
       "      <td>8</td>\n",
       "      <td>64</td>\n",
       "      <td>71</td>\n",
       "      <td>1</td>\n",
       "      <td>11</td>\n",
       "      <td>41</td>\n",
       "      <td>102</td>\n",
       "      <td>92</td>\n",
       "      <td>True</td>\n",
       "    </tr>\n",
       "    <tr>\n",
       "      <th>2488216163</th>\n",
       "      <td>74</td>\n",
       "      <td>102</td>\n",
       "      <td>9</td>\n",
       "      <td>29</td>\n",
       "      <td>14</td>\n",
       "      <td>105</td>\n",
       "      <td>86</td>\n",
       "      <td>65</td>\n",
       "      <td>55</td>\n",
       "      <td>111</td>\n",
       "      <td>True</td>\n",
       "    </tr>\n",
       "  </tbody>\n",
       "</table>\n",
       "</div>"
      ],
      "text/plain": [
       "            hero_1  hero_2  hero_3  hero_4  hero_5  hero_6  hero_7  hero_8  \\\n",
       "2488245920      34      83      29     102      12      88     107      10   \n",
       "2488233366     102      63      34     100      60       1      38      48   \n",
       "2488231318       7     112       8      64      71       1      11      41   \n",
       "2488216163      74     102       9      29      14     105      86      65   \n",
       "\n",
       "            hero_9  hero_10 first_5_won  \n",
       "2488245920      70       53        True  \n",
       "2488233366      93       33       False  \n",
       "2488231318     102       92        True  \n",
       "2488216163      55      111        True  "
      ]
     },
     "execution_count": 3,
     "metadata": {},
     "output_type": "execute_result"
    }
   ],
   "source": [
    "read_files()\n",
    "print(len(hero),len(test),len(train),len(sample))\n",
    "train.head(4)"
   ]
  },
  {
   "cell_type": "code",
   "execution_count": 4,
   "metadata": {
    "collapsed": false
   },
   "outputs": [
    {
     "data": {
      "text/html": [
       "<div>\n",
       "<table border=\"1\" class=\"dataframe\">\n",
       "  <thead>\n",
       "    <tr style=\"text-align: right;\">\n",
       "      <th></th>\n",
       "      <th>hero_1</th>\n",
       "      <th>hero_2</th>\n",
       "      <th>hero_3</th>\n",
       "      <th>hero_4</th>\n",
       "      <th>hero_5</th>\n",
       "      <th>hero_6</th>\n",
       "      <th>hero_7</th>\n",
       "      <th>hero_8</th>\n",
       "      <th>hero_9</th>\n",
       "      <th>hero_10</th>\n",
       "      <th>first_5_won</th>\n",
       "    </tr>\n",
       "  </thead>\n",
       "  <tbody>\n",
       "    <tr>\n",
       "      <th>2488245920</th>\n",
       "      <td>33</td>\n",
       "      <td>82</td>\n",
       "      <td>28</td>\n",
       "      <td>101</td>\n",
       "      <td>12</td>\n",
       "      <td>198</td>\n",
       "      <td>217</td>\n",
       "      <td>121</td>\n",
       "      <td>180</td>\n",
       "      <td>163</td>\n",
       "      <td>True</td>\n",
       "    </tr>\n",
       "    <tr>\n",
       "      <th>2488233366</th>\n",
       "      <td>101</td>\n",
       "      <td>62</td>\n",
       "      <td>33</td>\n",
       "      <td>99</td>\n",
       "      <td>59</td>\n",
       "      <td>112</td>\n",
       "      <td>148</td>\n",
       "      <td>158</td>\n",
       "      <td>203</td>\n",
       "      <td>143</td>\n",
       "      <td>False</td>\n",
       "    </tr>\n",
       "    <tr>\n",
       "      <th>2488231318</th>\n",
       "      <td>7</td>\n",
       "      <td>110</td>\n",
       "      <td>8</td>\n",
       "      <td>63</td>\n",
       "      <td>70</td>\n",
       "      <td>112</td>\n",
       "      <td>122</td>\n",
       "      <td>151</td>\n",
       "      <td>212</td>\n",
       "      <td>202</td>\n",
       "      <td>True</td>\n",
       "    </tr>\n",
       "  </tbody>\n",
       "</table>\n",
       "</div>"
      ],
      "text/plain": [
       "            hero_1  hero_2  hero_3  hero_4  hero_5  hero_6  hero_7  hero_8  \\\n",
       "2488245920      33      82      28     101      12     198     217     121   \n",
       "2488233366     101      62      33      99      59     112     148     158   \n",
       "2488231318       7     110       8      63      70     112     122     151   \n",
       "\n",
       "            hero_9  hero_10 first_5_won  \n",
       "2488245920     180      163        True  \n",
       "2488233366     203      143       False  \n",
       "2488231318     212      202        True  "
      ]
     },
     "execution_count": 4,
     "metadata": {},
     "output_type": "execute_result"
    }
   ],
   "source": [
    "train[(24<train)&(train<108)] -= 1\n",
    "train[(108 < train) & (train < 114)] -= 2\n",
    "train.loc[:,'hero_6':'hero_10'] += 111\n",
    "train.head(3)"
   ]
  },
  {
   "cell_type": "code",
   "execution_count": 5,
   "metadata": {
    "collapsed": true
   },
   "outputs": [],
   "source": [
    "length = len(train)\n",
    "X = pd.DataFrame({i:[0 for _ in range(length)] for i in range(1, 223)}, index = train.index)\n",
    "for index, row in train.iterrows():\n",
    "    for hero_id in row.tolist()[:10]:\n",
    "        X.loc[index, hero_id] = 1"
   ]
  },
  {
   "cell_type": "code",
   "execution_count": 6,
   "metadata": {
    "collapsed": false
   },
   "outputs": [
    {
     "data": {
      "text/html": [
       "<div>\n",
       "<table border=\"1\" class=\"dataframe\">\n",
       "  <thead>\n",
       "    <tr style=\"text-align: right;\">\n",
       "      <th></th>\n",
       "      <th>1</th>\n",
       "      <th>2</th>\n",
       "      <th>3</th>\n",
       "      <th>4</th>\n",
       "      <th>5</th>\n",
       "      <th>6</th>\n",
       "      <th>7</th>\n",
       "      <th>8</th>\n",
       "      <th>9</th>\n",
       "      <th>10</th>\n",
       "      <th>...</th>\n",
       "      <th>213</th>\n",
       "      <th>214</th>\n",
       "      <th>215</th>\n",
       "      <th>216</th>\n",
       "      <th>217</th>\n",
       "      <th>218</th>\n",
       "      <th>219</th>\n",
       "      <th>220</th>\n",
       "      <th>221</th>\n",
       "      <th>222</th>\n",
       "    </tr>\n",
       "  </thead>\n",
       "  <tbody>\n",
       "    <tr>\n",
       "      <th>2488245920</th>\n",
       "      <td>0</td>\n",
       "      <td>0</td>\n",
       "      <td>0</td>\n",
       "      <td>0</td>\n",
       "      <td>0</td>\n",
       "      <td>0</td>\n",
       "      <td>0</td>\n",
       "      <td>0</td>\n",
       "      <td>0</td>\n",
       "      <td>0</td>\n",
       "      <td>...</td>\n",
       "      <td>0</td>\n",
       "      <td>0</td>\n",
       "      <td>0</td>\n",
       "      <td>0</td>\n",
       "      <td>1</td>\n",
       "      <td>0</td>\n",
       "      <td>0</td>\n",
       "      <td>0</td>\n",
       "      <td>0</td>\n",
       "      <td>0</td>\n",
       "    </tr>\n",
       "    <tr>\n",
       "      <th>2488233366</th>\n",
       "      <td>0</td>\n",
       "      <td>0</td>\n",
       "      <td>0</td>\n",
       "      <td>0</td>\n",
       "      <td>0</td>\n",
       "      <td>0</td>\n",
       "      <td>0</td>\n",
       "      <td>0</td>\n",
       "      <td>0</td>\n",
       "      <td>0</td>\n",
       "      <td>...</td>\n",
       "      <td>0</td>\n",
       "      <td>0</td>\n",
       "      <td>0</td>\n",
       "      <td>0</td>\n",
       "      <td>0</td>\n",
       "      <td>0</td>\n",
       "      <td>0</td>\n",
       "      <td>0</td>\n",
       "      <td>0</td>\n",
       "      <td>0</td>\n",
       "    </tr>\n",
       "    <tr>\n",
       "      <th>2488231318</th>\n",
       "      <td>0</td>\n",
       "      <td>0</td>\n",
       "      <td>0</td>\n",
       "      <td>0</td>\n",
       "      <td>0</td>\n",
       "      <td>0</td>\n",
       "      <td>1</td>\n",
       "      <td>1</td>\n",
       "      <td>0</td>\n",
       "      <td>0</td>\n",
       "      <td>...</td>\n",
       "      <td>0</td>\n",
       "      <td>0</td>\n",
       "      <td>0</td>\n",
       "      <td>0</td>\n",
       "      <td>0</td>\n",
       "      <td>0</td>\n",
       "      <td>0</td>\n",
       "      <td>0</td>\n",
       "      <td>0</td>\n",
       "      <td>0</td>\n",
       "    </tr>\n",
       "    <tr>\n",
       "      <th>2488216163</th>\n",
       "      <td>0</td>\n",
       "      <td>0</td>\n",
       "      <td>0</td>\n",
       "      <td>0</td>\n",
       "      <td>0</td>\n",
       "      <td>0</td>\n",
       "      <td>0</td>\n",
       "      <td>0</td>\n",
       "      <td>1</td>\n",
       "      <td>0</td>\n",
       "      <td>...</td>\n",
       "      <td>0</td>\n",
       "      <td>0</td>\n",
       "      <td>1</td>\n",
       "      <td>0</td>\n",
       "      <td>0</td>\n",
       "      <td>0</td>\n",
       "      <td>0</td>\n",
       "      <td>1</td>\n",
       "      <td>0</td>\n",
       "      <td>0</td>\n",
       "    </tr>\n",
       "    <tr>\n",
       "      <th>2488215113</th>\n",
       "      <td>0</td>\n",
       "      <td>0</td>\n",
       "      <td>0</td>\n",
       "      <td>0</td>\n",
       "      <td>0</td>\n",
       "      <td>0</td>\n",
       "      <td>0</td>\n",
       "      <td>0</td>\n",
       "      <td>0</td>\n",
       "      <td>1</td>\n",
       "      <td>...</td>\n",
       "      <td>0</td>\n",
       "      <td>0</td>\n",
       "      <td>0</td>\n",
       "      <td>0</td>\n",
       "      <td>0</td>\n",
       "      <td>0</td>\n",
       "      <td>0</td>\n",
       "      <td>0</td>\n",
       "      <td>0</td>\n",
       "      <td>0</td>\n",
       "    </tr>\n",
       "  </tbody>\n",
       "</table>\n",
       "<p>5 rows × 222 columns</p>\n",
       "</div>"
      ],
      "text/plain": [
       "            1    2    3    4    5    6    7    8    9    10  ...   213  214  \\\n",
       "2488245920    0    0    0    0    0    0    0    0    0    0 ...     0    0   \n",
       "2488233366    0    0    0    0    0    0    0    0    0    0 ...     0    0   \n",
       "2488231318    0    0    0    0    0    0    1    1    0    0 ...     0    0   \n",
       "2488216163    0    0    0    0    0    0    0    0    1    0 ...     0    0   \n",
       "2488215113    0    0    0    0    0    0    0    0    0    1 ...     0    0   \n",
       "\n",
       "            215  216  217  218  219  220  221  222  \n",
       "2488245920    0    0    1    0    0    0    0    0  \n",
       "2488233366    0    0    0    0    0    0    0    0  \n",
       "2488231318    0    0    0    0    0    0    0    0  \n",
       "2488216163    1    0    0    0    0    1    0    0  \n",
       "2488215113    0    0    0    0    0    0    0    0  \n",
       "\n",
       "[5 rows x 222 columns]"
      ]
     },
     "execution_count": 6,
     "metadata": {},
     "output_type": "execute_result"
    }
   ],
   "source": [
    "X.head()"
   ]
  },
  {
   "cell_type": "code",
   "execution_count": 60,
   "metadata": {
    "collapsed": false
   },
   "outputs": [],
   "source": [
    "length = len(train)\n",
    "X = pd.DataFrame({i:[0 for _ in range(length)] for i in range(1, 223)}, index = train.index)\n",
    "for index, row in train.iterrows():\n",
    "    for hero_id in row.tolist()[:10]:\n",
    "        X.loc[index, hero_id] = 1\n",
    "y = train.first_5_won.astype('int')"
   ]
  },
  {
   "cell_type": "code",
   "execution_count": 61,
   "metadata": {
    "collapsed": false
   },
   "outputs": [
    {
     "data": {
      "text/plain": [
       "0.68430000000000002"
      ]
     },
     "execution_count": 61,
     "metadata": {},
     "output_type": "execute_result"
    }
   ],
   "source": [
    "model = LogisticRegression()\n",
    "model = model.fit(X, y)\n",
    "model.score(X, y)\n",
    "model.score"
   ]
  },
  {
   "cell_type": "code",
   "execution_count": 62,
   "metadata": {
    "collapsed": false
   },
   "outputs": [
    {
     "data": {
      "text/plain": [
       "0.65966666666666662"
      ]
     },
     "execution_count": 62,
     "metadata": {},
     "output_type": "execute_result"
    }
   ],
   "source": [
    "X_train, X_test, y_train, y_test = train_test_split(X, y, test_size=0.3, random_state=0)\n",
    "model2 = LogisticRegression()\n",
    "model2 = model.fit(X_train, y_train)\n",
    "model2.score(X_test, y_test)"
   ]
  },
  {
   "cell_type": "code",
   "execution_count": null,
   "metadata": {
    "collapsed": true
   },
   "outputs": [],
   "source": []
  }
 ],
 "metadata": {
  "kernelspec": {
   "display_name": "Python 3",
   "language": "python",
   "name": "python3"
  },
  "language_info": {
   "codemirror_mode": {
    "name": "ipython",
    "version": 3
   },
   "file_extension": ".py",
   "mimetype": "text/x-python",
   "name": "python",
   "nbconvert_exporter": "python",
   "pygments_lexer": "ipython3",
   "version": "3.5.2"
  }
 },
 "nbformat": 4,
 "nbformat_minor": 1
}
