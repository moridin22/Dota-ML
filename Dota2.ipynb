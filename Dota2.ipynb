{
 "cells": [
  {
   "cell_type": "markdown",
   "metadata": {},
   "source": [
    "### Description\n",
    "Second attempt at machine learning; uses a basic backpropagation network to predict the winner of a game of dota 2, but falls into a local minimum."
   ]
  },
  {
   "cell_type": "code",
   "execution_count": null,
   "metadata": {
    "collapsed": true
   },
   "outputs": [],
   "source": [
    "import csv\n",
    "import matplotlib\n",
    "import numpy as np\n",
    "import pandas as pd\n",
    "import matplotlib.pyplot as plt\n",
    "from sklearn.linear_model import LogisticRegression\n",
    "from sklearn.cross_validation import train_test_split\n",
    "from sklearn import metrics\n",
    "from sklearn.cross_validation import cross_val_score\n"
   ]
  },
  {
   "cell_type": "code",
   "execution_count": 2,
   "metadata": {
    "collapsed": false
   },
   "outputs": [],
   "source": [
    "def read_files():\n",
    "    global hero, test, train, sample\n",
    "    hero = pd.read_csv('Data/MatchDetail.csv')\n",
    "    test = pd.read_csv('Data/MatchOverviewTest.csv')\n",
    "    train = pd.read_csv('Data/MatchOverviewTraining.csv')\n",
    "    sample = pd.read_csv('Data/sampleSubmission.csv')\n",
    "    train.index = train.match_id.tolist()\n",
    "    del train['match_id']\n",
    "read_files()\n",
    "train[(24<train)&(train<108)] -= 1\n",
    "train[(108 < train) & (train < 114)] -= 2\n",
    "train.loc[:,'hero_6':'hero_10'] += 111\n",
    "length = len(train)\n",
    "X = pd.DataFrame({i:[0 for _ in range(length)] for i in range(1, 223)}, index = train.index)\n",
    "for index, row in train.iterrows():\n",
    "    for hero_id in row.tolist()[:10]:\n",
    "        X.loc[index, hero_id] = 1\n",
    "y = train.first_5_won.astype('int')\n"
   ]
  },
  {
   "cell_type": "code",
   "execution_count": null,
   "metadata": {
    "collapsed": false,
    "scrolled": false
   },
   "outputs": [
    {
     "name": "stdout",
     "output_type": "stream",
     "text": [
      "Momentum?\n",
      ".5\n",
      "Error:0.56099463448\n",
      "Learning rate?\n",
      "1\n",
      "Error:0.4163\n",
      "Learning rate?\n",
      "1\n",
      "Error:0.4163\n"
     ]
    }
   ],
   "source": [
    "def sigmoid(x, deriv = False):\n",
    "    if deriv:\n",
    "        return x * (1-x)\n",
    "    else:\n",
    "        return 1 / (1 + np.exp(-x))\n",
    "bias = np.ones((X.shape[0], 1))\n",
    "X = np.hstack((X, bias))\n",
    "y = y.T\n",
    "try:\n",
    "    y = np.array([y.values]).T\n",
    "    X = X.values\n",
    "except:\n",
    "    pass\n",
    "first_weights = 2 * np.random.random((X.shape[1], 220)) - 1\n",
    "second_weights = 2 * np.random.random((220, 1)) - 1\n",
    "high = 6000\n",
    "learning_rate = 1\n",
    "momentum = float(input(\"Momentum?\\n\"))\n",
    "first_past_update = 0\n",
    "second_past_update = 0\n",
    "for j in range(high + 1):\n",
    "    first_neurons = sigmoid(np.dot(X,first_weights))\n",
    "    second_neurons = sigmoid(np.dot(first_neurons,second_weights))\n",
    "    second_error = y - second_neurons\n",
    "    if j % 100 == 0:\n",
    "        print(\"Error:\" + str(np.mean(np.abs(second_error))))\n",
    "        learning_rate = float(input(\"Learning rate?\\n\"))\n",
    "    second_delta = (second_error) * (sigmoid(second_neurons, deriv = True))\n",
    "    first_error = (second_delta).dot(second_weights.T)\n",
    "    first_delta = first_error * (sigmoid(first_neurons, deriv = True))\n",
    "    first_update = learning_rate * X.T.dot(first_delta) + momentum * first_past_update\n",
    "    second_update = learning_rate * first_neurons.T.dot(second_delta) + momentum * second_past_update\n",
    "    first_weights += first_update\n",
    "    second_weights += second_update\n",
    "    first_past_update, second_past_update = first_update.copy(), second_update.copy()\n",
    "    \n",
    "print(\"done\")"
   ]
  },
  {
   "cell_type": "code",
   "execution_count": 157,
   "metadata": {
    "collapsed": false
   },
   "outputs": [
    {
     "data": {
      "text/plain": [
       "array([[ 1.],\n",
       "       [ 1.],\n",
       "       [ 1.],\n",
       "       ..., \n",
       "       [ 1.],\n",
       "       [ 1.],\n",
       "       [ 1.]])"
      ]
     },
     "execution_count": 157,
     "metadata": {},
     "output_type": "execute_result"
    }
   ],
   "source": [
    "second_neurons"
   ]
  },
  {
   "cell_type": "code",
   "execution_count": 149,
   "metadata": {
    "collapsed": false
   },
   "outputs": [
    {
     "data": {
      "text/plain": [
       "array([[ 1.],\n",
       "       [ 1.],\n",
       "       [ 1.],\n",
       "       [ 1.],\n",
       "       [ 1.],\n",
       "       [ 1.],\n",
       "       [ 1.],\n",
       "       [ 1.],\n",
       "       [ 1.],\n",
       "       [ 1.]])"
      ]
     },
     "execution_count": 149,
     "metadata": {},
     "output_type": "execute_result"
    }
   ],
   "source": [
    "np.ones((10, 1))"
   ]
  },
  {
   "cell_type": "code",
   "execution_count": 3,
   "metadata": {
    "collapsed": false
   },
   "outputs": [
    {
     "ename": "NameError",
     "evalue": "name 'a' is not defined",
     "output_type": "error",
     "traceback": [
      "\u001b[0;31m---------------------------------------------------------------------------\u001b[0m",
      "\u001b[0;31mNameError\u001b[0m                                 Traceback (most recent call last)",
      "\u001b[0;32m<ipython-input-3-89531a0f71e2>\u001b[0m in \u001b[0;36m<module>\u001b[0;34m()\u001b[0m\n\u001b[0;32m----> 1\u001b[0;31m \u001b[0mnp\u001b[0m\u001b[0;34m.\u001b[0m\u001b[0mhstack\u001b[0m\u001b[0;34m(\u001b[0m\u001b[0;34m(\u001b[0m\u001b[0ma\u001b[0m\u001b[0;34m,\u001b[0m\u001b[0mnp\u001b[0m\u001b[0;34m.\u001b[0m\u001b[0mrandom\u001b[0m\u001b[0;34m.\u001b[0m\u001b[0mrandom\u001b[0m\u001b[0;34m(\u001b[0m\u001b[0;34m(\u001b[0m\u001b[0;36m3\u001b[0m\u001b[0;34m,\u001b[0m\u001b[0;36m1\u001b[0m\u001b[0;34m)\u001b[0m\u001b[0;34m)\u001b[0m\u001b[0;34m)\u001b[0m\u001b[0;34m)\u001b[0m\u001b[0;34m[\u001b[0m\u001b[0;34m:\u001b[0m\u001b[0;34m,\u001b[0m \u001b[0;34m-\u001b[0m\u001b[0;36m1\u001b[0m\u001b[0;34m]\u001b[0m\u001b[0;34m\u001b[0m\u001b[0m\n\u001b[0m",
      "\u001b[0;31mNameError\u001b[0m: name 'a' is not defined"
     ]
    }
   ],
   "source": [
    "np.hstack((a,np.random.random((3,1))))"
   ]
  },
  {
   "cell_type": "code",
   "execution_count": null,
   "metadata": {
    "collapsed": true
   },
   "outputs": [],
   "source": []
  }
 ],
 "metadata": {
  "kernelspec": {
   "display_name": "Python 3",
   "language": "python",
   "name": "python3"
  },
  "language_info": {
   "codemirror_mode": {
    "name": "ipython",
    "version": 3
   },
   "file_extension": ".py",
   "mimetype": "text/x-python",
   "name": "python",
   "nbconvert_exporter": "python",
   "pygments_lexer": "ipython3",
   "version": "3.5.2"
  }
 },
 "nbformat": 4,
 "nbformat_minor": 1
}
