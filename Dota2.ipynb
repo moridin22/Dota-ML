{
 "cells": [
  {
   "cell_type": "code",
   "execution_count": 2,
   "metadata": {
    "collapsed": false
   },
   "outputs": [
    {
     "name": "stderr",
     "output_type": "stream",
     "text": [
      "/Library/Frameworks/Python.framework/Versions/3.5/lib/python3.5/site-packages/sklearn/cross_validation.py:44: DeprecationWarning: This module was deprecated in version 0.18 in favor of the model_selection module into which all the refactored classes and functions are moved. Also note that the interface of the new CV iterators are different from that of this module. This module will be removed in 0.20.\n",
      "  \"This module will be removed in 0.20.\", DeprecationWarning)\n"
     ]
    }
   ],
   "source": [
    "import csv\n",
    "import matplotlib\n",
    "import numpy as np\n",
    "import pandas as pd\n",
    "import matplotlib.pyplot as plt\n",
    "from sklearn.linear_model import LogisticRegression\n",
    "from sklearn.cross_validation import train_test_split\n",
    "from sklearn import metrics\n",
    "from sklearn.cross_validation import cross_val_score\n"
   ]
  },
  {
   "cell_type": "code",
   "execution_count": 86,
   "metadata": {
    "collapsed": false
   },
   "outputs": [],
   "source": [
    "def read_files():\n",
    "    global hero, test, train, sample\n",
    "    hero = pd.read_csv('Data/MatchDetail.csv')\n",
    "    test = pd.read_csv('Data/MatchOverviewTest.csv')\n",
    "    train = pd.read_csv('Data/MatchOverviewTraining.csv')\n",
    "    sample = pd.read_csv('Data/sampleSubmission.csv')\n",
    "    train.index = train.match_id.tolist()\n",
    "    del train['match_id']\n",
    "read_files()\n",
    "train[(24<train)&(train<108)] -= 1\n",
    "train[(108 < train) & (train < 114)] -= 2\n",
    "train.loc[:,'hero_6':'hero_10'] += 111\n",
    "length = len(train)\n",
    "X = pd.DataFrame({i:[0 for _ in range(length)] for i in range(1, 223)}, index = train.index)\n",
    "for index, row in train.iterrows():\n",
    "    for hero_id in row.tolist()[:10]:\n",
    "        X.loc[index, hero_id] = 1\n",
    "y = train.first_5_won.astype('int')\n"
   ]
  },
  {
   "cell_type": "code",
   "execution_count": 87,
   "metadata": {
    "collapsed": false
   },
   "outputs": [],
   "source": [
    "ycopy = y.copy()\n",
    "Xcopy = X.copy()"
   ]
  },
  {
   "cell_type": "code",
   "execution_count": 167,
   "metadata": {
    "collapsed": true
   },
   "outputs": [],
   "source": [
    "y = ycopy.copy()\n",
    "X = Xcopy.copy()"
   ]
  },
  {
   "cell_type": "code",
   "execution_count": null,
   "metadata": {
    "collapsed": false,
    "scrolled": false
   },
   "outputs": [
    {
     "name": "stdout",
     "output_type": "stream",
     "text": [
      "Momentum?\n",
      ".5\n",
      "Error:0.56099463448\n",
      "Learning rate?\n",
      "1\n",
      "Error:0.4163\n",
      "Learning rate?\n",
      "1\n",
      "Error:0.4163\n"
     ]
    }
   ],
   "source": [
    "def sigmoid(x, deriv = False):\n",
    "    if deriv:\n",
    "        return x * (1-x)\n",
    "    else:\n",
    "        return 1 / (1 + np.exp(-x))\n",
    "bias = np.ones((X.shape[0], 1))\n",
    "X = np.hstack((X, bias))\n",
    "y = y.T\n",
    "try:\n",
    "    y = np.array([y.values]).T\n",
    "    X = X.values\n",
    "except:\n",
    "    pass\n",
    "first_weights = 2 * np.random.random((X.shape[1], 220)) - 1\n",
    "second_weights = 2 * np.random.random((220, 1)) - 1\n",
    "high = 6000\n",
    "learning_rate = 1\n",
    "momentum = float(input(\"Momentum?\\n\"))\n",
    "first_past_update = 0\n",
    "second_past_update = 0\n",
    "for j in range(high + 1):\n",
    "    first_neurons = sigmoid(np.dot(X,first_weights))\n",
    "    second_neurons = sigmoid(np.dot(first_neurons,second_weights))\n",
    "    second_error = y - second_neurons\n",
    "    if j % 100 == 0:\n",
    "        print(\"Error:\" + str(np.mean(np.abs(second_error))))\n",
    "        learning_rate = float(input(\"Learning rate?\\n\"))\n",
    "    second_delta = (second_error) * (sigmoid(second_neurons, deriv = True))\n",
    "    first_error = (second_delta).dot(second_weights.T)\n",
    "    first_delta = first_error * (sigmoid(first_neurons, deriv = True))\n",
    "    first_update = learning_rate * X.T.dot(first_delta) + momentum * first_past_update\n",
    "    second_update = learning_rate * first_neurons.T.dot(second_delta) + momentum * second_past_update\n",
    "    first_weights += first_update\n",
    "    second_weights += second_update\n",
    "    first_past_update, second_past_update = first_update.copy(), second_update.copy()\n",
    "    \n",
    "print(\"done\")"
   ]
  },
  {
   "cell_type": "code",
   "execution_count": 157,
   "metadata": {
    "collapsed": false
   },
   "outputs": [
    {
     "data": {
      "text/plain": [
       "array([[ 1.],\n",
       "       [ 1.],\n",
       "       [ 1.],\n",
       "       ..., \n",
       "       [ 1.],\n",
       "       [ 1.],\n",
       "       [ 1.]])"
      ]
     },
     "execution_count": 157,
     "metadata": {},
     "output_type": "execute_result"
    }
   ],
   "source": [
    "second_neurons"
   ]
  },
  {
   "cell_type": "code",
   "execution_count": 149,
   "metadata": {
    "collapsed": false
   },
   "outputs": [
    {
     "data": {
      "text/plain": [
       "array([[ 1.],\n",
       "       [ 1.],\n",
       "       [ 1.],\n",
       "       [ 1.],\n",
       "       [ 1.],\n",
       "       [ 1.],\n",
       "       [ 1.],\n",
       "       [ 1.],\n",
       "       [ 1.],\n",
       "       [ 1.]])"
      ]
     },
     "execution_count": 149,
     "metadata": {},
     "output_type": "execute_result"
    }
   ],
   "source": [
    "np.ones((10, 1))"
   ]
  },
  {
   "cell_type": "code",
   "execution_count": 126,
   "metadata": {
    "collapsed": false
   },
   "outputs": [
    {
     "data": {
      "text/plain": [
       "array([[ 0.05506378,  0.33880298,  0.86775971,  0.67607961,  0.31952278],\n",
       "       [ 0.59101454,  0.03124705,  0.40265468,  0.96404362,  0.95787693],\n",
       "       [ 0.64682719,  0.04059491,  0.794938  ,  0.69731336,  0.5813147 ]])"
      ]
     },
     "execution_count": 126,
     "metadata": {},
     "output_type": "execute_result"
    }
   ],
   "source": [
    "np.hstack((a,np.random.random((3,1))))"
   ]
  },
  {
   "cell_type": "code",
   "execution_count": null,
   "metadata": {
    "collapsed": true
   },
   "outputs": [],
   "source": []
  }
 ],
 "metadata": {
  "kernelspec": {
   "display_name": "Python 3",
   "language": "python",
   "name": "python3"
  },
  "language_info": {
   "codemirror_mode": {
    "name": "ipython",
    "version": 3
   },
   "file_extension": ".py",
   "mimetype": "text/x-python",
   "name": "python",
   "nbconvert_exporter": "python",
   "pygments_lexer": "ipython3",
   "version": "3.5.2"
  }
 },
 "nbformat": 4,
 "nbformat_minor": 1
}
