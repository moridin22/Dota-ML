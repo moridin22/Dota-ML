{
 "cells": [
  {
   "cell_type": "code",
   "execution_count": 136,
   "metadata": {
    "collapsed": true
   },
   "outputs": [],
   "source": [
    "import numpy as np\n",
    "import numpy as np"
   ]
  },
  {
   "cell_type": "code",
   "execution_count": 152,
   "metadata": {
    "collapsed": false
   },
   "outputs": [],
   "source": [
    "def sigmoid(x, deriv = False):\n",
    "    if deriv:\n",
    "        return x * (1-x)\n",
    "    else:\n",
    "        return 1 / (1 + np.exp(-x))\n",
    "\n",
    "X = np.array([ [0,0,1],[0,1,1],[1,0,1],[1,1,1] ])\n",
    "y = np.array([[0,1,1,0]]).T\n",
    "np.random.seed(1)\n",
    "first_weights = 2 * np.random.random((3, 4)) - 1\n",
    "second_weights = 2 * np.random.random((4, 1)) - 1"
   ]
  },
  {
   "cell_type": "code",
   "execution_count": 153,
   "metadata": {
    "collapsed": false
   },
   "outputs": [
    {
     "name": "stdout",
     "output_type": "stream",
     "text": [
      "Error:0.496410031903\n",
      "Error:0.00772627511817\n",
      "Error:0.00523235948491\n",
      "Error:0.00419079975301\n",
      "Error:0.003587364709\n",
      "Error:0.00318289024928\n",
      "Error:0.00288809893045\n",
      "done\n"
     ]
    }
   ],
   "source": [
    "high = 60000\n",
    "import numpy as np\n",
    "learning_rate = 1\n",
    "first_past_update = second_past_update = 0\n",
    "momentum = .2\n",
    "for j in range(high + 1):\n",
    "    first_neurons = sigmoid(np.dot(X,first_weights))\n",
    "    second_neurons = sigmoid(np.dot(first_neurons,second_weights))\n",
    "    second_error = y - second_neurons\n",
    "    if (j% 10000) == 0:\n",
    "        print(\"Error:\" + str(np.mean(np.abs(second_error))))\n",
    "    second_delta = (second_error) * (sigmoid(second_neurons, deriv = True))\n",
    "    first_error = (second_delta).dot(second_weights.T)\n",
    "    first_delta = first_error * (sigmoid(first_neurons, deriv = True))\n",
    "    first_update = learning_rate * X.T.dot(first_delta)\n",
    "    second_update = learning_rate * first_neurons.T.dot(second_delta)\n",
    "    first_weights += first_update + momentum * first_past_update\n",
    "    second_weights += second_update + momentum * second_past_update\n",
    "    first_past_update, second_past_update = first_update.copy(), second_update.copy()\n",
    "    \n",
    "    #second_weights += learning_rate * first_neurons.T.dot(second_delta)\n",
    "    #first_weights += learning_rate * X.T.dot(first_delta)\n",
    "\n",
    "print(\"done\")"
   ]
  },
  {
   "cell_type": "code",
   "execution_count": 154,
   "metadata": {
    "collapsed": false
   },
   "outputs": [
    {
     "ename": "SyntaxError",
     "evalue": "invalid syntax (<ipython-input-154-39a40edc2322>, line 17)",
     "output_type": "error",
     "traceback": [
      "\u001b[0;36m  File \u001b[0;32m\"<ipython-input-154-39a40edc2322>\"\u001b[0;36m, line \u001b[0;32m17\u001b[0m\n\u001b[0;31m    def train(inputs, output, )\u001b[0m\n\u001b[0m                               ^\u001b[0m\n\u001b[0;31mSyntaxError\u001b[0m\u001b[0;31m:\u001b[0m invalid syntax\n"
     ]
    }
   ],
   "source": [
    "class NeuralNetwork:\n",
    "    \"\"\"A neural network with one hidden layer using the backpropagation algorithm.\"\"\"\n",
    "    \n",
    "    \n",
    "    def __init__(self, shape, momentum = 0, learning_rate = 1):\n",
    "        \"\"\"Initializes the network.\"\"\"\n",
    "        self.shape = shape\n",
    "        self.momentum = momentum\n",
    "        self.learning_rate = learning_rate\n",
    "        \n",
    "        first_weights = 2 * np.random.random((self.shape[0], self.shape[1])) - 1\n",
    "        second_weights = 2 * np.random.random((self.shape[1], self.shape[2])) - 1\n",
    "    def run(inputs):\n",
    "        \"\"\"Runs the neural network on a set of inputs.\"\"\"\n",
    "        first_neurons = sigmoid(np.dot(inputs,first_weights))\n",
    "        second_neurons = sigmoid(np.dot(first_neurons,second_weights))\n",
    "    def train(inputs, target)\n",
    "        for j in range(high + 1):\n",
    "            run(inputs)\n",
    "            second_error = target - second_neurons\n",
    "            if (j% 10000) == 0:\n",
    "                print(\"Error:\" + str(np.mean(np.abs(second_error))))\n",
    "            second_delta = (second_error) * (sigmoid(second_neurons, deriv = True))\n",
    "            first_error = (second_delta).dot(second_weights.T)\n",
    "            first_delta = first_error * (sigmoid(first_neurons, deriv = True))\n",
    "            first_update = learning_rate * inputs.T.dot(first_delta)\n",
    "            second_update = learning_rate * first_neurons.T.dot(second_delta)\n",
    "            first_weights += first_update + momentum * first_past_update\n",
    "            second_weights += second_update + momentum * second_past_update\n",
    "            first_past_update, second_past_update = first_update.copy(), second_update.copy()"
   ]
  },
  {
   "cell_type": "code",
   "execution_count": null,
   "metadata": {
    "collapsed": true
   },
   "outputs": [],
   "source": []
  }
 ],
 "metadata": {
  "kernelspec": {
   "display_name": "Python 3",
   "language": "python",
   "name": "python3"
  },
  "language_info": {
   "codemirror_mode": {
    "name": "ipython",
    "version": 3
   },
   "file_extension": ".py",
   "mimetype": "text/x-python",
   "name": "python",
   "nbconvert_exporter": "python",
   "pygments_lexer": "ipython3",
   "version": "3.5.2"
  }
 },
 "nbformat": 4,
 "nbformat_minor": 1
}
